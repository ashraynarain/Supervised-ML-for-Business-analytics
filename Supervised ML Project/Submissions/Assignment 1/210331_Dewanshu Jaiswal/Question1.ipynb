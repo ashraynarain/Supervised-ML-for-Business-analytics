{
  "nbformat": 4,
  "nbformat_minor": 0,
  "metadata": {
    "colab": {
      "provenance": []
    },
    "kernelspec": {
      "name": "python3",
      "display_name": "Python 3"
    },
    "language_info": {
      "name": "python"
    }
  },
  "cells": [
    {
      "cell_type": "code",
      "execution_count": 18,
      "metadata": {
        "colab": {
          "base_uri": "https://localhost:8080/"
        },
        "id": "C_UG2ufyM_r3",
        "outputId": "81d1edb1-dd8d-43b3-93dc-14f33c4aa834"
      },
      "outputs": [
        {
          "output_type": "stream",
          "name": "stdout",
          "text": [
            "random matrix :  [[0.9972688810174123, 0.6945013115151107, 0.24377461777103238, 0.5964768747799286], [0.5457950449896478, 0.14614780680645323, 0.8999714128599235, 0.24461222391405757], [0.6501892459599862, 0.5198159162001795, 0.9472374930064233, 0.6223729880706907], [0.48285138729753874, 0.2781784823464628, 0.45234909464399586, 0.48326499743909856]] \n",
            "\n",
            "\n",
            "transpose of random matrix :  [[0.9972688810174123, 0.5457950449896478, 0.6501892459599862, 0.48285138729753874], [0.6945013115151107, 0.14614780680645323, 0.5198159162001795, 0.2781784823464628], [0.24377461777103238, 0.8999714128599235, 0.9472374930064233, 0.45234909464399586], [0.5964768747799286, 0.24461222391405757, 0.6223729880706907, 0.48326499743909856]] \n",
            "\n",
            "\n",
            "product of random matrix and its transpose :  [[1.892088019158574, 1.011099979311822, 1.611569889983407, 1.0732556065417396], [1.011099979311822, 1.1890350966228562, 1.4355667304571509, 0.8295068493251208], [1.611569889983407, 1.4355667304571509, 1.9775616467341814, 1.1877994849462725], [1.0732556065417396, 0.8295068493251208, 1.1877994849462725, 0.7486934914307937]] \n",
            "\n",
            "\n",
            "product after rearrangement :  [[1.892088019158574, 1.011099979311822, 1.611569889983407, 1.0732556065417396, 1.011099979311822, 1.1890350966228562, 1.4355667304571509, 0.8295068493251208], [1.611569889983407, 1.4355667304571509, 1.9775616467341814, 1.1877994849462725, 1.0732556065417396, 0.8295068493251208, 1.1877994849462725, 0.7486934914307937]] \n",
            "\n",
            "\n"
          ]
        }
      ],
      "source": [
        "import random\n",
        "def matrix():\n",
        "  o=[]\n",
        "  for i in range (4):\n",
        "    row=[]\n",
        "    for j in range (4):\n",
        "       rand=random.random()     \n",
        "       row.append(rand)\n",
        "    o.append(row)\n",
        "  return o\n",
        "\n",
        "A=matrix()\n",
        "def transpose(matrix) :\n",
        "  t=[]\n",
        "  for i in range (4):\n",
        "    r=[]\n",
        "    for j in range (4):\n",
        "       r.append(matrix[j][i])\n",
        "    t.append(r)\n",
        "  return t  \n",
        "\n",
        "B=transpose(A)\n",
        "\n",
        "def multiplication(A,B):\n",
        "  m=[]\n",
        "  for i in range (4) :\n",
        "    r1=[]\n",
        "    for j in range (4):\n",
        "      sum=0\n",
        "      for k in range (4):\n",
        "        sum+= A[i][k]*B[k][j]\n",
        "      r1.append(sum)\n",
        "    m.append(r1)\n",
        "  return m\n",
        "C=multiplication(A,B)  \n",
        "\n",
        "def matrix2x8(C):\n",
        " result=[]\n",
        " for i in range (0,4,2) :\n",
        "   ro=[]\n",
        "   for j in range (8) :\n",
        "    if  ((j-4)<0):\n",
        "      ro.append(C[i][j])\n",
        "    else :\n",
        "      ro.append(C[i+1][j-4])\n",
        "       \n",
        "   result.append(ro)  \n",
        " return result  \n",
        "\n",
        "D=matrix2x8(C) \n",
        "\n",
        "print(\"random matrix : \" ,A,\"\\n\\n\")\n",
        "print(\"transpose of random matrix : \" ,B,\"\\n\\n\")\n",
        "print(\"product of random matrix and its transpose : \" ,C,\"\\n\\n\")\n",
        "print(\"product after rearrangement : \" ,D,\"\\n\\n\")\n",
        "\n",
        "\n",
        "\n",
        "  \n",
        "\n",
        "\n",
        "\n",
        "\n"
      ]
    }
  ]
}